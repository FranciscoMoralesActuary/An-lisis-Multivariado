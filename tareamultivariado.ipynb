{
  "nbformat": 4,
  "nbformat_minor": 0,
  "metadata": {
    "colab": {
      "provenance": []
    },
    "kernelspec": {
      "name": "python3",
      "display_name": "Python 3"
    },
    "language_info": {
      "name": "python"
    }
  },
  "cells": [
    {
      "cell_type": "code",
      "execution_count": null,
      "metadata": {
        "id": "in9NBok91SDe"
      },
      "outputs": [],
      "source": [
        "import numpy as np"
      ]
    },
    {
      "cell_type": "code",
      "source": [
        "X=np.array([[4.7,3.2,1.3],[4.6,3.1,1.5],[5,3.6,1.4]])\n",
        "X"
      ],
      "metadata": {
        "colab": {
          "base_uri": "https://localhost:8080/"
        },
        "id": "dJLkWA3H35TC",
        "outputId": "f07f7781-4eeb-4cff-e050-0855587b046e"
      },
      "execution_count": null,
      "outputs": [
        {
          "output_type": "execute_result",
          "data": {
            "text/plain": [
              "array([[4.7, 3.2, 1.3],\n",
              "       [4.6, 3.1, 1.5],\n",
              "       [5. , 3.6, 1.4]])"
            ]
          },
          "metadata": {},
          "execution_count": 2
        }
      ]
    },
    {
      "cell_type": "code",
      "source": [
        "X_BARRA=np.array([[X.T[0].sum()/3],[X.T[1].sum()/3],[X.T[2].sum()/3]])"
      ],
      "metadata": {
        "id": "wZtlHLh935V1"
      },
      "execution_count": null,
      "outputs": []
    },
    {
      "cell_type": "code",
      "source": [
        "X_BARRA.T"
      ],
      "metadata": {
        "colab": {
          "base_uri": "https://localhost:8080/"
        },
        "id": "TKbdsSFx35Yv",
        "outputId": "c47f8d26-3941-46f0-f2b5-b87cd9cc2d92"
      },
      "execution_count": null,
      "outputs": [
        {
          "output_type": "execute_result",
          "data": {
            "text/plain": [
              "array([[4.76666667, 3.3       , 1.4       ]])"
            ]
          },
          "metadata": {},
          "execution_count": 4
        }
      ]
    },
    {
      "cell_type": "code",
      "source": [
        "X_CENT=X-X_BARRA.T\n",
        "X_CENT"
      ],
      "metadata": {
        "colab": {
          "base_uri": "https://localhost:8080/"
        },
        "id": "wJjUrGSp35bg",
        "outputId": "828d2537-e70c-4239-b9c0-f576afdb58e8"
      },
      "execution_count": null,
      "outputs": [
        {
          "output_type": "execute_result",
          "data": {
            "text/plain": [
              "array([[-6.66666667e-02, -1.00000000e-01, -1.00000000e-01],\n",
              "       [-1.66666667e-01, -2.00000000e-01,  1.00000000e-01],\n",
              "       [ 2.33333333e-01,  3.00000000e-01,  2.22044605e-16]])"
            ]
          },
          "metadata": {},
          "execution_count": 5
        }
      ]
    },
    {
      "cell_type": "code",
      "source": [
        "np.set_printoptions(suppress=True)  # Suprime la notación científica\n",
        "print(X_CENT)"
      ],
      "metadata": {
        "colab": {
          "base_uri": "https://localhost:8080/"
        },
        "id": "zaluORCL6B0j",
        "outputId": "d643ad33-ca8a-4d8d-9d47-a727c6bb0356"
      },
      "execution_count": null,
      "outputs": [
        {
          "output_type": "stream",
          "name": "stdout",
          "text": [
            "[[-0.06666667 -0.1        -0.1       ]\n",
            " [-0.16666667 -0.2         0.1       ]\n",
            " [ 0.23333333  0.3         0.        ]]\n"
          ]
        }
      ]
    },
    {
      "cell_type": "code",
      "source": [
        "X_CENT.T"
      ],
      "metadata": {
        "colab": {
          "base_uri": "https://localhost:8080/"
        },
        "id": "YXDXR3HW35eK",
        "outputId": "de4d9eb3-a974-4be2-d60f-d4d247bfd88f"
      },
      "execution_count": null,
      "outputs": [
        {
          "output_type": "execute_result",
          "data": {
            "text/plain": [
              "array([[-0.06666667, -0.16666667,  0.23333333],\n",
              "       [-0.1       , -0.2       ,  0.3       ],\n",
              "       [-0.1       ,  0.1       ,  0.        ]])"
            ]
          },
          "metadata": {},
          "execution_count": 7
        }
      ]
    },
    {
      "cell_type": "code",
      "source": [
        "S=np.dot(X_CENT.T,X_CENT)*(1/3)"
      ],
      "metadata": {
        "id": "XwC09UGy35gw"
      },
      "execution_count": null,
      "outputs": []
    },
    {
      "cell_type": "code",
      "source": [
        "S"
      ],
      "metadata": {
        "colab": {
          "base_uri": "https://localhost:8080/"
        },
        "id": "v-vpvFLh35jU",
        "outputId": "806c626c-56b4-4301-bbd2-0a0d91ae3a6d"
      },
      "execution_count": null,
      "outputs": [
        {
          "output_type": "execute_result",
          "data": {
            "text/plain": [
              "array([[ 0.02888889,  0.03666667, -0.00333333],\n",
              "       [ 0.03666667,  0.04666667, -0.00333333],\n",
              "       [-0.00333333, -0.00333333,  0.00666667]])"
            ]
          },
          "metadata": {},
          "execution_count": 9
        }
      ]
    },
    {
      "cell_type": "code",
      "source": [
        "valores_propios, vectores_propios = np.linalg.eig(S)"
      ],
      "metadata": {
        "id": "Bpv4tlon35mB"
      },
      "execution_count": null,
      "outputs": []
    },
    {
      "cell_type": "code",
      "source": [
        "valores_propios"
      ],
      "metadata": {
        "colab": {
          "base_uri": "https://localhost:8080/"
        },
        "id": "i1eqDW3q5fG4",
        "outputId": "4c6d1e60-bd85-41e1-c438-4931208ebc53"
      },
      "execution_count": null,
      "outputs": [
        {
          "output_type": "execute_result",
          "data": {
            "text/plain": [
              "array([0.07582333, 0.        , 0.00639889])"
            ]
          },
          "metadata": {},
          "execution_count": 11
        }
      ]
    },
    {
      "cell_type": "code",
      "source": [
        "#SA=lambdaA donde A es una matriz 3x1 cuyos elementos son el peso de los componentes\n",
        "vectores_propios"
      ],
      "metadata": {
        "colab": {
          "base_uri": "https://localhost:8080/"
        },
        "id": "RqID1zBL5fJr",
        "outputId": "af4f5a83-4e69-402a-d6ac-db10aa3f3fd3"
      },
      "execution_count": null,
      "outputs": [
        {
          "output_type": "execute_result",
          "data": {
            "text/plain": [
              "array([[ 0.61720358,  0.78633365, -0.02718706],\n",
              "       [ 0.78389991, -0.61159284,  0.10702866],\n",
              "       [-0.06753282,  0.08737041,  0.99388416]])"
            ]
          },
          "metadata": {},
          "execution_count": 12
        }
      ]
    },
    {
      "cell_type": "code",
      "source": [
        "A_1=vectores_propios[:,0]\n",
        "A_2=vectores_propios[:,1]\n",
        "A_3=vectores_propios[:,2]\n",
        "print(f\"{A_1},{A_2},{A_3}\")"
      ],
      "metadata": {
        "colab": {
          "base_uri": "https://localhost:8080/"
        },
        "id": "rYxNjiYR5fMp",
        "outputId": "4984d964-b703-43e8-d07c-73e8cc51d6cf"
      },
      "execution_count": null,
      "outputs": [
        {
          "output_type": "stream",
          "name": "stdout",
          "text": [
            "[ 0.61720358  0.78389991 -0.06753282],[ 0.78633365 -0.61159284  0.08737041],[-0.02718706  0.10702866  0.99388416]\n"
          ]
        }
      ]
    },
    {
      "cell_type": "code",
      "source": [
        "A_1.T"
      ],
      "metadata": {
        "colab": {
          "base_uri": "https://localhost:8080/"
        },
        "id": "QEBV5miW5fPe",
        "outputId": "1aaa6c45-900c-40b6-d062-1d786418cda6"
      },
      "execution_count": null,
      "outputs": [
        {
          "output_type": "execute_result",
          "data": {
            "text/plain": [
              "array([ 0.61720358,  0.78389991, -0.06753282])"
            ]
          },
          "metadata": {},
          "execution_count": 14
        }
      ]
    },
    {
      "cell_type": "code",
      "source": [
        "#Condición (A_1)^T(A_1)=1\n",
        "c1=np.dot(A_1.T,A_1)\n",
        "c2=np.dot(A_2.T,A_2)\n",
        "c3=np.dot(A_3.T,A_3)\n",
        "print(f\"c1={c1}, c2={c2}, c3={c3}. Se cumple la condición\")"
      ],
      "metadata": {
        "colab": {
          "base_uri": "https://localhost:8080/"
        },
        "id": "h-oTNxie5fSE",
        "outputId": "77024e57-cecd-4969-bdab-caa344a505a8"
      },
      "execution_count": null,
      "outputs": [
        {
          "output_type": "stream",
          "name": "stdout",
          "text": [
            "c1=0.9999999999999999, c2=0.9999999999999999, c3=0.9999999999999999. Se cumple la condición\n"
          ]
        }
      ]
    },
    {
      "cell_type": "code",
      "source": [
        "Z_1=np.dot(S,A_1)\n",
        "Z_2=np.dot(S,A_2)\n",
        "Z_3=np.dot(S,A_3)\n",
        "print(f\"Z_1={Z_1}, Z_2={Z_2}, Z_3={Z_3}\")"
      ],
      "metadata": {
        "colab": {
          "base_uri": "https://localhost:8080/"
        },
        "id": "ETVyIujk5fWA",
        "outputId": "2dabd57e-df42-486e-ffb7-ab8ac026b7df"
      },
      "execution_count": null,
      "outputs": [
        {
          "output_type": "stream",
          "name": "stdout",
          "text": [
            "Z_1=[ 0.04679843  0.0594379  -0.00512056], Z_2=[-0. -0.  0.], Z_3=[-0.00017397  0.00068486  0.00635976]\n"
          ]
        }
      ]
    },
    {
      "cell_type": "code",
      "source": [
        "Z_A=0.07582333*A_1\n",
        "Z_B=0*A_2\n",
        "Z_C=0.00639889*A_3\n",
        "print(f\"Z_A={Z_A}, Z_B={Z_B}, Z_C={Z_C}\")\n"
      ],
      "metadata": {
        "colab": {
          "base_uri": "https://localhost:8080/"
        },
        "id": "MgySY2RiEWq0",
        "outputId": "fc364fd7-759b-475d-b344-e0eb94e00df3"
      },
      "execution_count": null,
      "outputs": [
        {
          "output_type": "stream",
          "name": "stdout",
          "text": [
            "Z_A=[ 0.04679843  0.0594379  -0.00512056], Z_B=[ 0. -0.  0.], Z_C=[-0.00017397  0.00068486  0.00635976]\n"
          ]
        }
      ]
    },
    {
      "cell_type": "code",
      "source": [
        "Z_4 = np.array([Z_1, Z_2, Z_3])\n",
        "Z_4\n",
        "Z_D = np.array([Z_A, Z_B, Z_C])\n",
        "Z_D\n",
        "if np.allclose(Z_D, Z_4, atol=1e-8):\n",
        "    print(\"Son iguales y cumple la condicion Sa_i=lamdba_ia_i\")\n",
        "else:\n",
        "    print(\"No Son iguales y no cumple la condicion Sa_i=lamdba_ia_i\")"
      ],
      "metadata": {
        "colab": {
          "base_uri": "https://localhost:8080/"
        },
        "id": "x8hMdvjnKeaX",
        "outputId": "5c683737-b202-483c-edf8-b12040f3f1c0"
      },
      "execution_count": null,
      "outputs": [
        {
          "output_type": "stream",
          "name": "stdout",
          "text": [
            "Son iguales y cumple la condicion Sa_i=lamdba_ia_i\n"
          ]
        }
      ]
    },
    {
      "cell_type": "code",
      "source": [
        "Z_uno = np.dot(X_CENT,A_1)\n",
        "Z_dos = np.dot(X_CENT,A_2)\n",
        "Z_tres = np.dot(X_CENT,A_3)\n",
        "print(f\"Z_uno={Z_uno}, Z_dos={Z_dos}, Z_tres={Z_tres}\")"
      ],
      "metadata": {
        "id": "nIsN_o4d2kd_",
        "colab": {
          "base_uri": "https://localhost:8080/"
        },
        "outputId": "cd54e0ad-487e-40c9-e14f-92fddd560234"
      },
      "execution_count": null,
      "outputs": [
        {
          "output_type": "stream",
          "name": "stdout",
          "text": [
            "Z_uno=[-0.11278361 -0.26640053  0.37918414], Z_dos=[0. 0. 0.], Z_tres=[-0.10827881  0.08251386  0.02576495]\n"
          ]
        }
      ]
    }
  ]
}